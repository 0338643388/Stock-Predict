{
 "cells": [
  {
   "cell_type": "code",
   "execution_count": 3,
   "id": "561a4f4d",
   "metadata": {},
   "outputs": [],
   "source": [
    "import pandas as pd, numpy as np\n",
    "import os, io, datetime, re, json\n",
    "from hdfs import InsecureClient\n",
    "import getpass\n",
    "import fsspec\n"
   ]
  },
  {
   "cell_type": "code",
   "execution_count": 4,
   "id": "0bceca6e",
   "metadata": {},
   "outputs": [],
   "source": [
    "fs = fsspec.filesystem(\n",
    "    'webhdfs',\n",
    "    host='localhost',\n",
    "    port=9870,\n",
    "    user='user'\n",
    ")\n"
   ]
  },
  {
   "cell_type": "code",
   "execution_count": 5,
   "id": "0e46746e",
   "metadata": {},
   "outputs": [],
   "source": [
    "file_name = 'HPG_Capital_Increase_M&A.json'"
   ]
  },
  {
   "cell_type": "code",
   "execution_count": 9,
   "id": "36c9dd61",
   "metadata": {},
   "outputs": [],
   "source": [
    "file_path = f'/datalake/raw/{file_name}'\n",
    "with fs.open(file_path, 'r', encoding='utf-8') as f:\n",
    "    js = json.load(f)"
   ]
  },
  {
   "cell_type": "code",
   "execution_count": 11,
   "id": "582e030a",
   "metadata": {},
   "outputs": [],
   "source": [
    "def convert_ms_date(ms_date_str):\n",
    "    match = re.search(r'\\d+', ms_date_str)  # Tìm số trong chuỗi /Date(...)/\n",
    "    if match:\n",
    "        timestamp_ms = int(match.group())   # Lấy số, chuyển thành int (milliseconds)\n",
    "        timestamp_s = timestamp_ms / 1000   # Chuyển sang seconds\n",
    "        dt = datetime.datetime.utcfromtimestamp(timestamp_s)    # Tạo datetime từ Unix timestamp\n",
    "        return dt.strftime('%Y-%m-%d %H:%M:%S') # Định dạng lại thành chuỗi dễ đọc\n",
    "    return ms_date_str  # Trường hợp không đúng định dạn"
   ]
  },
  {
   "cell_type": "code",
   "execution_count": 14,
   "id": "debd95c6",
   "metadata": {},
   "outputs": [],
   "source": [
    "def json_to_parquet_publishtime(input_path, output_path):\n",
    "    \"\"\"\n",
    "       input_path (str): Đường dẫn file JSON đầu vào.\n",
    "       output_path (str): Đường dẫn file Parquet đầu ra.\n",
    "    \"\"\"\n",
    "    #chuyển định dạng thời gian\n",
    "\n",
    "\n",
    "    #mở file json\n",
    "    with fs.open(input_path, 'r', encoding='utf-8') as file:\n",
    "        data = json.load(file)\n",
    "\n",
    "    #lấy dữ liệu\n",
    "    filtered_data = []\n",
    "    for item in data:\n",
    "        filtered_item = {\n",
    "            \"Title\": item.get(\"Title\"),\n",
    "            \"PublishTime\": convert_ms_date(item.get(\"PublishTime\", \"\"))\n",
    "        }\n",
    "        filtered_data.append(filtered_item)\n",
    "\n",
    "    df = pd.DataFrame(filtered_data)\n",
    "\n",
    "    #tạo file parquet\n",
    "    with fs.open(output_path, 'wb') as f:\n",
    "        df.to_parquet(f, engine='pyarrow', index=False)\n",
    "\n",
    "    return df\n"
   ]
  },
  {
   "cell_type": "code",
   "execution_count": 16,
   "id": "926b1ac9",
   "metadata": {},
   "outputs": [],
   "source": [
    "file_name = ['HPG_Capital_Increase_M&A', 'HPG_Devidend', 'HPG_industry_news', 'HPG_Personnel_changes', 'HPG_Shareholder_transactions', 'HPG_Results_Business_Plan']\n",
    "for file in file_name:\n",
    "    json_to_parquet_publishtime(\n",
    "        input_path = f'/datalake/raw/{file}.json',\n",
    "        output_path = f'/datalake/cleaned/{file}.parquet'\n",
    "    )"
   ]
  },
  {
   "cell_type": "code",
   "execution_count": 18,
   "id": "f3baa416",
   "metadata": {},
   "outputs": [],
   "source": [
    "file_name = ['HSG_Capital_Increase_M&A', 'HSG_Devidend', 'HSG_industry_news', 'HSG_Personnel_changes', 'HSG_Shareholder_transactions', 'HSG_Results_Business_Plan']\n",
    "for file in file_name:\n",
    "    json_to_parquet_publishtime(\n",
    "        input_path = f'/datalake/raw/{file}.json',\n",
    "        output_path = f'/datalake/cleaned/{file}.parquet'\n",
    "    )"
   ]
  }
 ],
 "metadata": {
  "kernelspec": {
   "display_name": ".venv",
   "language": "python",
   "name": "python3"
  },
  "language_info": {
   "codemirror_mode": {
    "name": "ipython",
    "version": 3
   },
   "file_extension": ".py",
   "mimetype": "text/x-python",
   "name": "python",
   "nbconvert_exporter": "python",
   "pygments_lexer": "ipython3",
   "version": "3.10.8"
  }
 },
 "nbformat": 4,
 "nbformat_minor": 5
}
